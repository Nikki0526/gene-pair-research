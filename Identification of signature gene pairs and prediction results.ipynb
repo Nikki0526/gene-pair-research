{
 "cells": [
  {
   "cell_type": "code",
   "execution_count": 1,
   "metadata": {
    "scrolled": true
   },
   "outputs": [],
   "source": [
    "import csv\n",
    "import os\n",
    "import numpy as np\n",
    "import pandas as pd\n",
    "\n",
    "data_14 = pd.read_csv('data10.csv')"
   ]
  },
  {
   "cell_type": "code",
   "execution_count": 2,
   "metadata": {},
   "outputs": [],
   "source": [
    "from sklearn.model_selection import train_test_split\n",
    "from sklearn.ensemble.gradient_boosting import GradientBoostingClassifier\n",
    "from sklearn.metrics import confusion_matrix"
   ]
  },
  {
   "cell_type": "code",
   "execution_count": 3,
   "metadata": {
    "scrolled": true
   },
   "outputs": [],
   "source": [
    "f = ['HLCS',\n",
    " 'PTBP1',\n",
    " 'ANXA4',\n",
    " 'GBP1P1',\n",
    " 'GBP5',\n",
    " 'ACTR3',\n",
    " 'DUS4L',\n",
    " 'CDH22',\n",
    " 'PLPP6',\n",
    " 'OGN',\n",
    " 'GNG12',\n",
    " 'TMEM268',\n",
    " 'SPNS2',\n",
    " 'WDR6',\n",
    " 'MST1',\n",
    " 'TMEM209',\n",
    " 'KCNK15',\n",
    " 'HSPA5',\n",
    " 'HYPK',\n",
    " 'HLA-A',\n",
    " 'RAP1GDS1',\n",
    " 'LAX1',\n",
    " 'MYLIP',\n",
    " 'TIPARP',\n",
    " 'GSTCD',\n",
    " 'ALDH1A2',\n",
    " 'IDO1',\n",
    " 'ZNF184',\n",
    " 'PTCH1',\n",
    " 'KRT15',\n",
    " 'CCDC142',\n",
    " 'SRGAP2B',\n",
    " 'MAFB',\n",
    " 'IVD',\n",
    " 'ZNF354B']"
   ]
  },
  {
   "cell_type": "code",
   "execution_count": 4,
   "metadata": {},
   "outputs": [],
   "source": [
    "number = len(f)\n",
    "data = data_14[f]"
   ]
  },
  {
   "cell_type": "code",
   "execution_count": 5,
   "metadata": {},
   "outputs": [
    {
     "data": {
      "text/plain": [
       "Index(['HLCS', 'PTBP1', 'ANXA4', 'GBP1P1', 'GBP5', 'ACTR3', 'DUS4L', 'CDH22',\n",
       "       'PLPP6', 'OGN', 'GNG12', 'TMEM268', 'SPNS2', 'WDR6', 'MST1', 'TMEM209',\n",
       "       'KCNK15', 'HSPA5', 'HYPK', 'HLA-A', 'RAP1GDS1', 'LAX1', 'MYLIP',\n",
       "       'TIPARP', 'GSTCD', 'ALDH1A2', 'IDO1', 'ZNF184', 'PTCH1', 'KRT15',\n",
       "       'CCDC142', 'SRGAP2B', 'MAFB', 'IVD', 'ZNF354B'],\n",
       "      dtype='object')"
      ]
     },
     "execution_count": 5,
     "metadata": {},
     "output_type": "execute_result"
    }
   ],
   "source": [
    "data.columns"
   ]
  },
  {
   "cell_type": "code",
   "execution_count": 6,
   "metadata": {},
   "outputs": [],
   "source": [
    "x5 = data"
   ]
  },
  {
   "cell_type": "code",
   "execution_count": 7,
   "metadata": {
    "scrolled": true
   },
   "outputs": [],
   "source": [
    "'''calculate GIC'''\n",
    "res1 = x5.iloc[0:35,0:number]\n",
    "sen = x5.iloc[35:197,0:number]"
   ]
  },
  {
   "cell_type": "code",
   "execution_count": 8,
   "metadata": {
    "scrolled": true
   },
   "outputs": [],
   "source": [
    "res2 = x5.iloc[197:324,0:number]"
   ]
  },
  {
   "cell_type": "code",
   "execution_count": 9,
   "metadata": {},
   "outputs": [],
   "source": [
    "res = res1.append(res2)"
   ]
  },
  {
   "cell_type": "code",
   "execution_count": 10,
   "metadata": {
    "scrolled": true
   },
   "outputs": [],
   "source": [
    "d1 = res\n",
    "d2 = sen\n",
    "length =  len(d1)"
   ]
  },
  {
   "cell_type": "code",
   "execution_count": 11,
   "metadata": {},
   "outputs": [],
   "source": [
    "junzhi = []\n",
    "biaozhuncha = []\n",
    "for j in range(number):\n",
    "    junzhi.append(d2.iloc[:,j:j+1].mean())\n",
    "    biaozhuncha.append(d2.iloc[:,j:j+1].std())"
   ]
  },
  {
   "cell_type": "code",
   "execution_count": 12,
   "metadata": {
    "scrolled": true
   },
   "outputs": [
    {
     "data": {
      "text/plain": [
       "['HLCS',\n",
       " 'PTBP1',\n",
       " 'ANXA4',\n",
       " 'GBP1P1',\n",
       " 'GBP5',\n",
       " 'ACTR3',\n",
       " 'DUS4L',\n",
       " 'CDH22',\n",
       " 'PLPP6',\n",
       " 'OGN',\n",
       " 'GNG12',\n",
       " 'TMEM268',\n",
       " 'SPNS2',\n",
       " 'WDR6',\n",
       " 'MST1',\n",
       " 'TMEM209',\n",
       " 'KCNK15',\n",
       " 'HSPA5',\n",
       " 'HYPK',\n",
       " 'HLA-A',\n",
       " 'RAP1GDS1',\n",
       " 'LAX1',\n",
       " 'MYLIP',\n",
       " 'TIPARP',\n",
       " 'GSTCD',\n",
       " 'ALDH1A2',\n",
       " 'IDO1',\n",
       " 'ZNF184',\n",
       " 'PTCH1',\n",
       " 'KRT15',\n",
       " 'CCDC142',\n",
       " 'SRGAP2B',\n",
       " 'MAFB',\n",
       " 'IVD',\n",
       " 'ZNF354B']"
      ]
     },
     "execution_count": 12,
     "metadata": {},
     "output_type": "execute_result"
    }
   ],
   "source": [
    "gene = list(res.columns)\n",
    "gene"
   ]
  },
  {
   "cell_type": "code",
   "execution_count": 13,
   "metadata": {},
   "outputs": [],
   "source": [
    "data = pd.read_csv('X_train_10.csv')\n",
    "X_train = data[gene]"
   ]
  },
  {
   "cell_type": "code",
   "execution_count": 14,
   "metadata": {
    "scrolled": true
   },
   "outputs": [],
   "source": [
    "data = pd.read_csv('X_test_10.csv')\n",
    "X_test = data[gene]"
   ]
  },
  {
   "cell_type": "code",
   "execution_count": 15,
   "metadata": {},
   "outputs": [],
   "source": [
    "data = pd.read_csv('y_train_10.csv')\n",
    "y_train = data.iloc[:,1:2]"
   ]
  },
  {
   "cell_type": "code",
   "execution_count": 16,
   "metadata": {},
   "outputs": [],
   "source": [
    "data = pd.read_csv('y_test_10.csv')\n",
    "y_test = data.iloc[:,1:2]"
   ]
  },
  {
   "cell_type": "code",
   "execution_count": 17,
   "metadata": {},
   "outputs": [],
   "source": [
    "z_train = pd.DataFrame(data=None, index=range(len(X_train)), columns=res.columns, dtype=None, copy=False)\n",
    "\n",
    "#calculate z-value of d1, after selecting mu and sigma\n",
    "for j in range(number):\n",
    "    for i in range(len(X_train)):\n",
    "        z_train.iloc[i,j] = ((X_train.iloc[i,j] - junzhi[j]) / biaozhuncha[j]).values[0]"
   ]
  },
  {
   "cell_type": "code",
   "execution_count": 18,
   "metadata": {},
   "outputs": [],
   "source": [
    "alter_train = pd.DataFrame(data=None, index=range(len(X_train)), columns=res.columns, dtype=None, copy=False)\n",
    "upper_bar =  0.2\n",
    "lower_bar = -0.2\n",
    "for j in range(number):\n",
    "    for i in range(len(X_train)):\n",
    "        if(z_train.iloc[i,j] >= upper_bar):\n",
    "            alter_train.iloc[i,j] = 1\n",
    "        elif(z_train.iloc[i,j] <= lower_bar):\n",
    "            alter_train.iloc[i,j] = -1\n",
    "        else:\n",
    "            alter_train.iloc[i,j] = 0"
   ]
  },
  {
   "cell_type": "code",
   "execution_count": 19,
   "metadata": {},
   "outputs": [],
   "source": [
    "name = alter_train.columns"
   ]
  },
  {
   "cell_type": "code",
   "execution_count": 20,
   "metadata": {
    "scrolled": true
   },
   "outputs": [],
   "source": [
    "n = number - 1\n",
    "for i in range(n):\n",
    "    for j in range(n-i):\n",
    "        alter_train[name[i] + '_' + name[n-j]] = alter_train.apply(lambda x: x[name[i]] * x[name[n-j]], axis=1)"
   ]
  },
  {
   "cell_type": "code",
   "execution_count": 21,
   "metadata": {},
   "outputs": [],
   "source": [
    "z_test = pd.DataFrame(data=None, index=range(len(X_test)), columns=res.columns, dtype=None, copy=False)\n",
    "\n",
    "#calculate z-value of d1, after selecting mu and sigma\n",
    "for j in range(number):\n",
    "    for i in range(len(X_test)):\n",
    "        z_test.iloc[i,j] = ((X_test.iloc[i,j] - junzhi[j]) / biaozhuncha[j]).values[0]"
   ]
  },
  {
   "cell_type": "code",
   "execution_count": 22,
   "metadata": {},
   "outputs": [],
   "source": [
    "alter_test = pd.DataFrame(data=None, index=range(len(X_test)), columns=res.columns, dtype=None, copy=False)\n",
    "upper_bar =  0.2\n",
    "lower_bar = -0.2\n",
    "for j in range(number):\n",
    "    for i in range(len(X_test)):\n",
    "        if(z_test.iloc[i,j] >= upper_bar):\n",
    "            alter_test.iloc[i,j] = 1\n",
    "        elif(z_test.iloc[i,j] <= lower_bar):\n",
    "            alter_test.iloc[i,j] = -1\n",
    "        else:\n",
    "            alter_test.iloc[i,j] = 0"
   ]
  },
  {
   "cell_type": "code",
   "execution_count": 23,
   "metadata": {},
   "outputs": [],
   "source": [
    "n = number - 1\n",
    "for i in range(n):\n",
    "    for j in range(n-i):\n",
    "        alter_test[name[i] + '_' + name[n-j]] = alter_test.apply(lambda x: x[name[i]] * x[name[n-j]], axis=1)"
   ]
  },
  {
   "cell_type": "code",
   "execution_count": 24,
   "metadata": {},
   "outputs": [],
   "source": [
    "z = pd.DataFrame(data=None, index=range(length), columns=res.columns, dtype=None, copy=False)"
   ]
  },
  {
   "cell_type": "code",
   "execution_count": 25,
   "metadata": {},
   "outputs": [],
   "source": [
    "#calculate z-value of d1, after selecting mu and sigma\n",
    "for j in range(number):\n",
    "    for i in range(length):\n",
    "        z.iloc[i,j] = ((d1.iloc[i,j] - junzhi[j]) / biaozhuncha[j]).values[0]"
   ]
  },
  {
   "cell_type": "code",
   "execution_count": 26,
   "metadata": {},
   "outputs": [],
   "source": [
    "alter = pd.DataFrame(data=None, index=range(length), columns=res.columns, dtype=None, copy=False)"
   ]
  },
  {
   "cell_type": "code",
   "execution_count": 27,
   "metadata": {},
   "outputs": [],
   "source": [
    "upper_bar =  0.2\n",
    "lower_bar = -0.2\n",
    "for j in range(number):\n",
    "    for i in range(length):\n",
    "        if(z.iloc[i,j] >= upper_bar):\n",
    "            alter.iloc[i,j] = 1\n",
    "        elif(z.iloc[i,j] <= lower_bar):\n",
    "            alter.iloc[i,j] = -1\n",
    "        else:\n",
    "            alter.iloc[i,j] = 0"
   ]
  },
  {
   "cell_type": "code",
   "execution_count": 28,
   "metadata": {},
   "outputs": [],
   "source": [
    "testz = alter"
   ]
  },
  {
   "cell_type": "code",
   "execution_count": 29,
   "metadata": {},
   "outputs": [],
   "source": [
    "n = number - 1\n",
    "for i in range(n):\n",
    "    for j in range(n-i):\n",
    "        testz[name[i] + '_' + name[n-j]] = testz.apply(lambda x: x[name[i]] * x[name[n-j]], axis=1)"
   ]
  },
  {
   "cell_type": "code",
   "execution_count": 30,
   "metadata": {},
   "outputs": [],
   "source": [
    "bar = 0.75"
   ]
  },
  {
   "cell_type": "code",
   "execution_count": 31,
   "metadata": {},
   "outputs": [],
   "source": [
    "for i in range(n):\n",
    "    for j in range(n-i):\n",
    "        if abs(testz[name[i] + '_' + name[n-j]].sum()) >= length * bar:\n",
    "            X_train[name[i] + '_' + name[n-j]] = alter_train[name[i] + '_' + name[n-j]]"
   ]
  },
  {
   "cell_type": "code",
   "execution_count": 32,
   "metadata": {},
   "outputs": [],
   "source": [
    "for i in range(n):\n",
    "    for j in range(n-i):\n",
    "        if abs(testz[name[i] + '_' + name[n-j]].sum()) >= length * bar:\n",
    "            X_test[name[i] + '_' + name[n-j]] = alter_test[name[i] + '_' + name[n-j]]"
   ]
  },
  {
   "cell_type": "code",
   "execution_count": 33,
   "metadata": {},
   "outputs": [],
   "source": [
    "column = []"
   ]
  },
  {
   "cell_type": "code",
   "execution_count": 34,
   "metadata": {},
   "outputs": [],
   "source": [
    "n = number - 1\n",
    "for i in range(n):\n",
    "    for j in range(n-i):\n",
    "        if abs(testz[name[i] + '_' + name[n-j]].sum()) >= length * bar:\n",
    "            column.append(name[i] + '_' + name[n-j])"
   ]
  },
  {
   "cell_type": "code",
   "execution_count": 35,
   "metadata": {
    "scrolled": true
   },
   "outputs": [
    {
     "data": {
      "text/plain": [
       "['HLCS_IDO1',\n",
       " 'HLCS_LAX1',\n",
       " 'HLCS_PLPP6',\n",
       " 'HLCS_GBP5',\n",
       " 'HLCS_GBP1P1',\n",
       " 'PTBP1_IDO1',\n",
       " 'PTBP1_GBP5',\n",
       " 'PTBP1_GBP1P1',\n",
       " 'GBP1P1_IDO1',\n",
       " 'GBP1P1_LAX1',\n",
       " 'GBP1P1_HLA-A',\n",
       " 'GBP1P1_TMEM268',\n",
       " 'GBP1P1_GBP5',\n",
       " 'GBP5_IDO1',\n",
       " 'GBP5_LAX1',\n",
       " 'GBP5_HLA-A',\n",
       " 'GBP5_TMEM268',\n",
       " 'PLPP6_IDO1',\n",
       " 'PLPP6_LAX1',\n",
       " 'TMEM268_IDO1',\n",
       " 'HSPA5_LAX1',\n",
       " 'HLA-A_IDO1',\n",
       " 'HLA-A_LAX1',\n",
       " 'LAX1_IDO1']"
      ]
     },
     "execution_count": 35,
     "metadata": {},
     "output_type": "execute_result"
    }
   ],
   "source": [
    "column"
   ]
  },
  {
   "cell_type": "code",
   "execution_count": 36,
   "metadata": {},
   "outputs": [
    {
     "data": {
      "text/plain": [
       "24"
      ]
     },
     "execution_count": 36,
     "metadata": {},
     "output_type": "execute_result"
    }
   ],
   "source": [
    "len(column)"
   ]
  },
  {
   "cell_type": "code",
   "execution_count": 37,
   "metadata": {
    "scrolled": true
   },
   "outputs": [],
   "source": [
    "x_train = X_train[column]\n",
    "x_test = X_test[column]"
   ]
  },
  {
   "cell_type": "code",
   "execution_count": 38,
   "metadata": {},
   "outputs": [
    {
     "name": "stderr",
     "output_type": "stream",
     "text": [
      "C:\\Users\\nikki\\Anaconda3\\lib\\site-packages\\sklearn\\utils\\validation.py:752: DataConversionWarning: A column-vector y was passed when a 1d array was expected. Please change the shape of y to (n_samples, ), for example using ravel().\n",
      "  y = column_or_1d(y, warn=True)\n"
     ]
    },
    {
     "name": "stdout",
     "output_type": "stream",
     "text": [
      "The Accuracy of Linear SVC is 0.908163\n",
      "              precision    recall  f1-score   support\n",
      "\n",
      "           0       0.94      0.89      0.92        57\n",
      "           1       0.86      0.93      0.89        41\n",
      "\n",
      "   micro avg       0.91      0.91      0.91        98\n",
      "   macro avg       0.90      0.91      0.91        98\n",
      "weighted avg       0.91      0.91      0.91        98\n",
      "\n",
      "confusion matrix\n",
      "+---------+---------+\n",
      "| Field 1 | Field 2 |\n",
      "+---------+---------+\n",
      "|    51   |    6    |\n",
      "|    3    |    38   |\n",
      "+---------+---------+\n"
     ]
    }
   ],
   "source": [
    "# Linear SVM\n",
    "from sklearn.metrics import classification_report\n",
    "from sklearn.metrics import confusion_matrix\n",
    "from sklearn.svm import LinearSVC\n",
    "import prettytable\n",
    "lsvc = LinearSVC()                      \n",
    "lsvc.fit(x_train,y_train)                \n",
    " \n",
    "print ('The Accuracy of Linear SVC is %f'%lsvc.score(x_test,y_test))   \n",
    "y_pred = lsvc.predict(x_test)  \n",
    "print(classification_report(y_test, y_pred))\n",
    "\n",
    "confusion_m = confusion_matrix(y_test, y_pred)\n",
    "n = len(confusion_m)\n",
    "confusion_matrix_table = prettytable.PrettyTable()   \n",
    "for i in range(n):\n",
    "    confusion_matrix_table.add_row(confusion_m[i, :])  \n",
    "print ('confusion matrix')\n",
    "print (confusion_matrix_table)  "
   ]
  },
  {
   "cell_type": "code",
   "execution_count": 39,
   "metadata": {},
   "outputs": [],
   "source": [
    "length1 = len(d2)\n",
    "z1 = pd.DataFrame(data=None, index=range(length1), columns=res.columns, dtype=None, copy=False)\n",
    "#calculate z-value of d2, after selecting mu and sigma\n",
    "for j in range(number):\n",
    "    for i in range(length1):\n",
    "        z1.iloc[i,j] = ((d2.iloc[i,j] - junzhi[j]) / biaozhuncha[j]).values[0]"
   ]
  },
  {
   "cell_type": "code",
   "execution_count": 40,
   "metadata": {},
   "outputs": [],
   "source": [
    "alter1 = pd.DataFrame(data=None, index=range(length1), columns=res.columns, dtype=None, copy=False)"
   ]
  },
  {
   "cell_type": "code",
   "execution_count": 41,
   "metadata": {},
   "outputs": [],
   "source": [
    "upper_bar =  0.2\n",
    "lower_bar = -0.2\n",
    "for j in range(14):\n",
    "    for i in range(length1):\n",
    "        if(z1.iloc[i,j] >= upper_bar):\n",
    "            alter1.iloc[i,j] = 1\n",
    "        elif(z1.iloc[i,j] <= lower_bar):\n",
    "            alter1.iloc[i,j] = -1\n",
    "        else:\n",
    "            alter1.iloc[i,j] = 0"
   ]
  },
  {
   "cell_type": "code",
   "execution_count": 42,
   "metadata": {
    "scrolled": true
   },
   "outputs": [],
   "source": [
    "testz1 = alter1"
   ]
  },
  {
   "cell_type": "code",
   "execution_count": 43,
   "metadata": {},
   "outputs": [],
   "source": [
    "n = number - 1\n",
    "for i in range(n):\n",
    "    for j in range(n-i):\n",
    "        testz1[name[i] + '_' + name[n-j]] = testz1.apply(lambda x: x[name[i]] * x[name[n-j]], axis=1)"
   ]
  },
  {
   "cell_type": "code",
   "execution_count": 44,
   "metadata": {},
   "outputs": [],
   "source": [
    "import math"
   ]
  },
  {
   "cell_type": "code",
   "execution_count": 45,
   "metadata": {},
   "outputs": [],
   "source": [
    "# calculate information value\n",
    "gene_pair = []\n",
    "ivs = []\n",
    "eps = 1\n",
    "for i in range(n):\n",
    "    for j in range(n-i):\n",
    "        if abs(testz[name[i] + '_' + name[n-j]].sum()) >= length * 0.75:\n",
    "            pyi = abs(testz[name[i] + '_' + name[n-j]].sum()+eps)/length\n",
    "            pni = abs(testz1[name[i] + '_' + name[n-j]].sum()+eps)/length1\n",
    "            woe = math.log(pyi/pni)\n",
    "            \n",
    "            pyi1 = 1- (abs(testz[name[i] + '_' + name[n-j]].sum()+eps)/length)\n",
    "            pni1 = 1- (abs(testz1[name[i] + '_' + name[n-j]].sum()+eps)/length1)\n",
    "            woe1 = math.log(pyi1/pni1)\n",
    "            \n",
    "            iv= (pyi-pni)*woe + (pyi1-pni1)*woe1\n",
    "            \n",
    "            gene_pair.append(name[i] + '_' + name[n-j])\n",
    "            ivs.append(iv)"
   ]
  },
  {
   "cell_type": "code",
   "execution_count": 46,
   "metadata": {},
   "outputs": [],
   "source": [
    "'''Draw gene network'''\n",
    "import networkx as nx\n",
    "import matplotlib.pyplot as plt\n",
    "import random\n",
    "import numpy as np"
   ]
  },
  {
   "cell_type": "code",
   "execution_count": 47,
   "metadata": {},
   "outputs": [],
   "source": [
    "edge = res.corr()\n",
    "edge.loc[:,:] = 0"
   ]
  },
  {
   "cell_type": "code",
   "execution_count": 53,
   "metadata": {},
   "outputs": [],
   "source": [
    "bar = 0.75"
   ]
  },
  {
   "cell_type": "code",
   "execution_count": 54,
   "metadata": {},
   "outputs": [],
   "source": [
    "n = number-1\n",
    "node = []\n",
    "edge_weight = []\n",
    "for i in range(n):\n",
    "    for j in range(n-i):\n",
    "        if abs(testz[name[i] + '_' + name[n-j]].sum()) > length * bar:\n",
    "            node.append(name[i])\n",
    "            node.append(name[n-j])\n",
    "            \n",
    "            value = testz[name[i] + '_' + name[n-j]].sum()/length\n",
    "            edge.iloc[i,n-j] = value\n",
    "            edge_weight.append(value)"
   ]
  },
  {
   "cell_type": "code",
   "execution_count": 55,
   "metadata": {
    "scrolled": true
   },
   "outputs": [
    {
     "data": {
      "text/plain": [
       "24"
      ]
     },
     "execution_count": 55,
     "metadata": {},
     "output_type": "execute_result"
    }
   ],
   "source": [
    "len(edge_weight)"
   ]
  },
  {
   "cell_type": "code",
   "execution_count": 56,
   "metadata": {},
   "outputs": [],
   "source": [
    "nodes = list(set(node))"
   ]
  },
  {
   "cell_type": "code",
   "execution_count": 57,
   "metadata": {},
   "outputs": [
    {
     "data": {
      "text/plain": [
       "10"
      ]
     },
     "execution_count": 57,
     "metadata": {},
     "output_type": "execute_result"
    }
   ],
   "source": [
    "len(nodes)"
   ]
  },
  {
   "cell_type": "code",
   "execution_count": 326,
   "metadata": {},
   "outputs": [],
   "source": [
    "G=nx.Graph()\n",
    "num_nodes = len(nodes)\n",
    "\n",
    "for i in range(num_nodes):\n",
    "    G.add_node(nodes[i],desc=nodes[i])"
   ]
  },
  {
   "cell_type": "code",
   "execution_count": 327,
   "metadata": {},
   "outputs": [],
   "source": [
    "symbol = res.columns"
   ]
  },
  {
   "cell_type": "code",
   "execution_count": 328,
   "metadata": {
    "scrolled": true
   },
   "outputs": [
    {
     "name": "stdout",
     "output_type": "stream",
     "text": [
      "0\n",
      "0\n",
      "0\n",
      "0\n",
      "0\n",
      "1\n",
      "1\n",
      "1\n",
      "3\n",
      "3\n",
      "3\n",
      "3\n",
      "3\n",
      "4\n",
      "4\n",
      "4\n",
      "4\n",
      "8\n",
      "8\n",
      "11\n",
      "17\n",
      "19\n",
      "19\n",
      "21\n"
     ]
    }
   ],
   "source": [
    "for i in range(n):\n",
    "    for j in range(n-i):\n",
    "        if abs(testz[name[i] + '_' + name[n-j]].sum()) > length * bar:\n",
    "            print(i)\n",
    "            G.add_edge(symbol[i],symbol[n-j],weight=edge.iloc[i,n-j])"
   ]
  },
  {
   "cell_type": "code",
   "execution_count": 329,
   "metadata": {},
   "outputs": [],
   "source": [
    "de2 = [100,100,100,100,100,100,100,100,100,100]\n",
    "de = [i * 14 for i in de2]"
   ]
  },
  {
   "cell_type": "code",
   "execution_count": 335,
   "metadata": {},
   "outputs": [],
   "source": [
    "edge_width = edge_weight\n",
    "edge_width1 = [i * i * 5 for i in edge_width]"
   ]
  },
  {
   "cell_type": "code",
   "execution_count": 336,
   "metadata": {
    "scrolled": true
   },
   "outputs": [
    {
     "data": {
      "image/png": "[encoded data removed]",
      "text/plain": [
       "<Figure size 576x360 with 1 Axes>"
      ]
     },
     "metadata": {},
     "output_type": "display_data"
    }
   ],
   "source": [
    "plt.figure(figsize=(8,5))\n",
    "pos = nx.circular_layout(G)\n",
    "#nx.draw_networkx_edges(G,pos=pos,width=[float(d['weight']*10) for (u,v,d) in G.edges(data=True)],edge_color=color)\n",
    "nx.draw_networkx_edges(G,pos=pos,width=edge_width1,edge_color='slategray')\n",
    "nx.draw_networkx_nodes(G,pos,node_size=de,node_color='lightskyblue')\n",
    "\n",
    "node_labels = nx.get_node_attributes(G, 'desc')\n",
    "nx.draw_networkx_labels(G, pos, labels=node_labels)\n",
    "\n",
    "plt.axis('off')\n",
    "plt.savefig('network_small.eps', dpi=300)\n",
    "\n",
    "plt.show()"
   ]
  },
  {
   "cell_type": "code",
   "execution_count": 58,
   "metadata": {},
   "outputs": [],
   "source": [
    "from sklearn.metrics import accuracy_score\n",
    "from sklearn.metrics import precision_score\n",
    "from sklearn.metrics import recall_score\n",
    "from sklearn.metrics import f1_score\n",
    "from sklearn.metrics import roc_auc_score\n",
    "from sklearn import svm"
   ]
  },
  {
   "cell_type": "code",
   "execution_count": 59,
   "metadata": {},
   "outputs": [],
   "source": [
    "x_train = X_train[nodes]\n",
    "x_test = X_test[nodes]"
   ]
  },
  {
   "cell_type": "code",
   "execution_count": 62,
   "metadata": {
    "scrolled": true
   },
   "outputs": [
    {
     "name": "stderr",
     "output_type": "stream",
     "text": [
      "C:\\Users\\nikki\\Anaconda3\\lib\\site-packages\\sklearn\\utils\\validation.py:752: DataConversionWarning: A column-vector y was passed when a 1d array was expected. Please change the shape of y to (n_samples, ), for example using ravel().\n",
      "  y = column_or_1d(y, warn=True)\n",
      "C:\\Users\\nikki\\Anaconda3\\lib\\site-packages\\sklearn\\svm\\base.py:922: ConvergenceWarning: Liblinear failed to converge, increase the number of iterations.\n",
      "  \"the number of iterations.\", ConvergenceWarning)\n",
      "C:\\Users\\nikki\\Anaconda3\\lib\\site-packages\\sklearn\\utils\\validation.py:752: DataConversionWarning: A column-vector y was passed when a 1d array was expected. Please change the shape of y to (n_samples, ), for example using ravel().\n",
      "  y = column_or_1d(y, warn=True)\n",
      "C:\\Users\\nikki\\Anaconda3\\lib\\site-packages\\sklearn\\svm\\base.py:922: ConvergenceWarning: Liblinear failed to converge, increase the number of iterations.\n",
      "  \"the number of iterations.\", ConvergenceWarning)\n",
      "C:\\Users\\nikki\\Anaconda3\\lib\\site-packages\\sklearn\\utils\\validation.py:752: DataConversionWarning: A column-vector y was passed when a 1d array was expected. Please change the shape of y to (n_samples, ), for example using ravel().\n",
      "  y = column_or_1d(y, warn=True)\n",
      "C:\\Users\\nikki\\Anaconda3\\lib\\site-packages\\sklearn\\svm\\base.py:922: ConvergenceWarning: Liblinear failed to converge, increase the number of iterations.\n",
      "  \"the number of iterations.\", ConvergenceWarning)\n",
      "C:\\Users\\nikki\\Anaconda3\\lib\\site-packages\\sklearn\\utils\\validation.py:752: DataConversionWarning: A column-vector y was passed when a 1d array was expected. Please change the shape of y to (n_samples, ), for example using ravel().\n",
      "  y = column_or_1d(y, warn=True)\n",
      "C:\\Users\\nikki\\Anaconda3\\lib\\site-packages\\sklearn\\svm\\base.py:922: ConvergenceWarning: Liblinear failed to converge, increase the number of iterations.\n",
      "  \"the number of iterations.\", ConvergenceWarning)\n",
      "C:\\Users\\nikki\\Anaconda3\\lib\\site-packages\\sklearn\\utils\\validation.py:752: DataConversionWarning: A column-vector y was passed when a 1d array was expected. Please change the shape of y to (n_samples, ), for example using ravel().\n",
      "  y = column_or_1d(y, warn=True)\n",
      "C:\\Users\\nikki\\Anaconda3\\lib\\site-packages\\sklearn\\svm\\base.py:922: ConvergenceWarning: Liblinear failed to converge, increase the number of iterations.\n",
      "  \"the number of iterations.\", ConvergenceWarning)\n"
     ]
    }
   ],
   "source": [
    "# SVM\n",
    "accsum1 = 0\n",
    "precsum1 = 0\n",
    "recsum1 = 0\n",
    "f1sum1 = 0\n",
    "aucsum1 = 0\n",
    "m = 5\n",
    "\n",
    "for i in range(m):\n",
    "    lsvc = LinearSVC() \n",
    "    lsvc.fit(x_train,y_train)                \n",
    "\n",
    "    y_pred = lsvc.predict(x_test)\n",
    "    accsum1 = accsum1 + accuracy_score(y_test, y_pred)\n",
    "    precsum1 = precsum1 + precision_score(y_test, y_pred)\n",
    "    recsum1 = recsum1 + recall_score(y_test, y_pred)\n",
    "    f1sum1 = f1sum1 + f1_score(y_test, y_pred)\n",
    "        \n",
    "    y_score = lsvc.decision_function(x_test) \n",
    "    aucsum1 = aucsum1 + roc_auc_score(y_test, y_score)\n",
    "\n",
    "accsum1 = accsum1 / m\n",
    "precsum1 = precsum1 / m\n",
    "recsum1 = recsum1 / m\n",
    "f1sum1 = f1sum1 / m   \n",
    "aucsum1 = aucsum1 / m"
   ]
  },
  {
   "cell_type": "code",
   "execution_count": 66,
   "metadata": {},
   "outputs": [],
   "source": [
    "x_train = X_train[column]\n",
    "x_test = X_test[column]"
   ]
  },
  {
   "cell_type": "code",
   "execution_count": 68,
   "metadata": {},
   "outputs": [
    {
     "name": "stderr",
     "output_type": "stream",
     "text": [
      "C:\\Users\\nikki\\Anaconda3\\lib\\site-packages\\sklearn\\utils\\validation.py:752: DataConversionWarning: A column-vector y was passed when a 1d array was expected. Please change the shape of y to (n_samples, ), for example using ravel().\n",
      "  y = column_or_1d(y, warn=True)\n"
     ]
    }
   ],
   "source": [
    "from sklearn.metrics import roc_curve, auc\n",
    "m = 1\n",
    "acc = 0\n",
    "prec = 0\n",
    "rec = 0\n",
    "f1 = 0\n",
    "auc_roc = 0\n",
    "\n",
    "for j in range(m):\n",
    "    lsvc = LinearSVC()         \n",
    "    lsvc.fit(x_train,y_train)               \n",
    "    y_pred = lsvc.predict(x_test)\n",
    "    \n",
    "    acc += accuracy_score(y_test,y_pred)\n",
    "    prec += precision_score(y_test,y_pred)\n",
    "    rec += recall_score(y_test,y_pred)\n",
    "    f1 += f1_score(y_test,y_pred)\n",
    "    fpr, tpr, thresholds = roc_curve(y_test, y_pred)\n",
    "    auc_roc += auc(fpr, tpr)\n",
    "    \n",
    "acc = acc/m\n",
    "prec = prec/m\n",
    "rec = rec/m\n",
    "f1 = f1/m\n",
    "auc_roc = auc_roc/m"
   ]
  },
  {
   "cell_type": "code",
   "execution_count": null,
   "metadata": {},
   "outputs": [],
   "source": []
  }
 ],
 "metadata": {
  "kernelspec": {
   "display_name": "Python 3",
   "language": "python",
   "name": "python3"
  },
  "language_info": {
   "codemirror_mode": {
    "name": "ipython",
    "version": 3
   },
   "file_extension": ".py",
   "mimetype": "text/x-python",
   "name": "python",
   "nbconvert_exporter": "python",
   "pygments_lexer": "ipython3",
   "version": "3.6.5"
  }
 },
 "nbformat": 4,
 "nbformat_minor": 2
}
